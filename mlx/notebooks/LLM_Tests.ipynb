{
 "cells": [
  {
   "cell_type": "code",
   "execution_count": 1,
   "id": "7c661ebb-a92c-4e09-ae33-2c0f596bce6f",
   "metadata": {},
   "outputs": [],
   "source": [
    "%load_ext autoreload\n",
    "%autoreload 2"
   ]
  },
  {
   "cell_type": "code",
   "execution_count": 2,
   "id": "71bbb0be-40a5-4bbf-8f01-6bc5f7ffb44c",
   "metadata": {
    "scrolled": true
   },
   "outputs": [],
   "source": [
    "#!pip install numpy pandas matplotlib transformers accelerate mlx-lm -qqq\n",
    "#!pip install flash_attn"
   ]
  },
  {
   "cell_type": "code",
   "execution_count": 2,
   "id": "d09ea9b1-fd2e-4e47-97dd-229a49f64ef1",
   "metadata": {},
   "outputs": [],
   "source": [
    "import matplotlib.pyplot as plt\n",
    "\n",
    "import numpy as np\n",
    "\n",
    "import os.path as osp \n",
    "\n",
    "import pandas as pd\n",
    "from pprint import pprint\n",
    "\n",
    "import re\n",
    "\n",
    "import sys\n",
    "sys.path.append(\"../\")\n",
    "\n",
    "from tqdm.auto import tqdm\n",
    "import torch\n",
    "import torch.nn as nn\n",
    "\n",
    "from typing import Tuple, Any"
   ]
  },
  {
   "cell_type": "code",
   "execution_count": 3,
   "id": "d0d57d73-73dd-4dae-bf2f-557f4446a1b4",
   "metadata": {},
   "outputs": [],
   "source": [
    "from src.__init__ import logger\n",
    "from src.config import Config\n",
    "from src.model import ARCModel\n",
    "from src.utils import (load_data, \n",
    "                        sample_arc_task, \n",
    "                        visualize_task, \n",
    "                        infer_out_shape,\n",
    "                        get_row_sizes,\n",
    "                        get_grid_shape)"
   ]
  },
  {
   "cell_type": "code",
   "execution_count": 4,
   "id": "4b6be7b5-7958-4998-9295-52f363bc674a",
   "metadata": {},
   "outputs": [],
   "source": [
    "base_prompt_path = \"../src/base_prompt.txt\"\n",
    "\n",
    "with open(base_prompt_path, \"r\") as f:\n",
    "    base_prompt = f.read().strip()\n",
    "\n",
    "#pprint(base_prompt)\n",
    "prompt = base_prompt+\"\\n\\n\"+\"How would you solve such puzzles to ensure the highest accuracy?\""
   ]
  },
  {
   "cell_type": "code",
   "execution_count": 7,
   "id": "5f6faf63-43ec-435a-9cb2-2c1d381023e4",
   "metadata": {},
   "outputs": [
    {
     "name": "stdout",
     "output_type": "stream",
     "text": [
      "✓ Loaded 746 training problems\n"
     ]
    }
   ],
   "source": [
    "train_data, test_data = load_data(data_path=\"../../data\")\n",
    "\n",
    "print(f\"✓ Loaded {len(train_data)} training problems\")"
   ]
  },
  {
   "cell_type": "code",
   "execution_count": 8,
   "id": "349eb726-b6b0-48eb-98c6-5fbf4c23b8cb",
   "metadata": {},
   "outputs": [
    {
     "data": {
      "application/vnd.jupyter.widget-view+json": {
       "model_id": "fb3b0324014b469999a80258ac16dead",
       "version_major": 2,
       "version_minor": 0
      },
      "text/plain": [
       "Fetching 11 files:   0%|          | 0/11 [00:00<?, ?it/s]"
      ]
     },
     "metadata": {},
     "output_type": "display_data"
    },
    {
     "data": {
      "application/vnd.jupyter.widget-view+json": {
       "model_id": "e3e2c3c038934540a3f235737aa52587",
       "version_major": 2,
       "version_minor": 0
      },
      "text/plain": [
       "model-00001-of-00003.safetensors:   0%|          | 0.00/5.36G [00:00<?, ?B/s]"
      ]
     },
     "metadata": {},
     "output_type": "display_data"
    },
    {
     "data": {
      "application/vnd.jupyter.widget-view+json": {
       "model_id": "d463365dc4734a1db49b58d407fbf113",
       "version_major": 2,
       "version_minor": 0
      },
      "text/plain": [
       "model-00003-of-00003.safetensors:   0%|          | 0.00/5.00G [00:00<?, ?B/s]"
      ]
     },
     "metadata": {},
     "output_type": "display_data"
    },
    {
     "data": {
      "application/vnd.jupyter.widget-view+json": {
       "model_id": "f035db9fd49f4b4088d16a93e6854a3f",
       "version_major": 2,
       "version_minor": 0
      },
      "text/plain": [
       "model-00002-of-00003.safetensors:   0%|          | 0.00/5.34G [00:00<?, ?B/s]"
      ]
     },
     "metadata": {},
     "output_type": "display_data"
    },
    {
     "data": {
      "application/vnd.jupyter.widget-view+json": {
       "model_id": "03afd3a24e254f8a8e4fedbc499fca84",
       "version_major": 2,
       "version_minor": 0
      },
      "text/plain": [
       "config.json:   0%|          | 0.00/787 [00:00<?, ?B/s]"
      ]
     },
     "metadata": {},
     "output_type": "display_data"
    },
    {
     "data": {
      "application/vnd.jupyter.widget-view+json": {
       "model_id": "1e8a7e49a08e4ca8b36af70b0a52718b",
       "version_major": 2,
       "version_minor": 0
      },
      "text/plain": [
       "added_tokens.json:   0%|          | 0.00/605 [00:00<?, ?B/s]"
      ]
     },
     "metadata": {},
     "output_type": "display_data"
    },
    {
     "data": {
      "application/vnd.jupyter.widget-view+json": {
       "model_id": "fbbc1d0c6ebb4b178526237d79ee9733",
       "version_major": 2,
       "version_minor": 0
      },
      "text/plain": [
       "special_tokens_map.json:   0%|          | 0.00/613 [00:00<?, ?B/s]"
      ]
     },
     "metadata": {},
     "output_type": "display_data"
    },
    {
     "data": {
      "application/vnd.jupyter.widget-view+json": {
       "model_id": "0e775d52d23f4ad9a45d73c0d85efd21",
       "version_major": 2,
       "version_minor": 0
      },
      "text/plain": [
       "merges.txt: 0.00B [00:00, ?B/s]"
      ]
     },
     "metadata": {},
     "output_type": "display_data"
    },
    {
     "data": {
      "application/vnd.jupyter.widget-view+json": {
       "model_id": "f072886a265a4f319f5be3357c8dd94c",
       "version_major": 2,
       "version_minor": 0
      },
      "text/plain": [
       "model.safetensors.index.json: 0.00B [00:00, ?B/s]"
      ]
     },
     "metadata": {},
     "output_type": "display_data"
    },
    {
     "data": {
      "application/vnd.jupyter.widget-view+json": {
       "model_id": "d6d73ee2f0344370aacbcb8c4dfd3c54",
       "version_major": 2,
       "version_minor": 0
      },
      "text/plain": [
       "tokenizer_config.json: 0.00B [00:00, ?B/s]"
      ]
     },
     "metadata": {},
     "output_type": "display_data"
    },
    {
     "data": {
      "application/vnd.jupyter.widget-view+json": {
       "model_id": "0d5e029128f74dff8dc0d48a620bccc3",
       "version_major": 2,
       "version_minor": 0
      },
      "text/plain": [
       "tokenizer.json: 0.00B [00:00, ?B/s]"
      ]
     },
     "metadata": {},
     "output_type": "display_data"
    },
    {
     "data": {
      "application/vnd.jupyter.widget-view+json": {
       "model_id": "a7d9f7e222ad4e4295da95de38b6af66",
       "version_major": 2,
       "version_minor": 0
      },
      "text/plain": [
       "vocab.json: 0.00B [00:00, ?B/s]"
      ]
     },
     "metadata": {},
     "output_type": "display_data"
    },
    {
     "name": "stdout",
     "output_type": "stream",
     "text": [
      "[INFO] ✅ Successfully loaded base LLM (mlx-community/Qwen2.5-14B-Instruct-8bit).\n"
     ]
    }
   ],
   "source": [
    "model = ARCModel(\n",
    "    system_prompt_path=base_prompt_path, \n",
    "    verbose=False\n",
    ")"
   ]
  },
  {
   "cell_type": "markdown",
   "id": "e21da9d4-6d90-42e9-a10a-17cac5f8e0b7",
   "metadata": {},
   "source": [
    "# Try out LLM"
   ]
  },
  {
   "cell_type": "code",
   "execution_count": 9,
   "id": "a7b94a22-c1ba-41c1-8142-b7c964a27aeb",
   "metadata": {
    "scrolled": true
   },
   "outputs": [
    {
     "name": "stdout",
     "output_type": "stream",
     "text": [
      "Sampled task: train_0395\n"
     ]
    },
    {
     "data": {
      "image/png": "[encoded data removed]",
      "text/plain": [
       "<Figure size 1000x400 with 11 Axes>"
      ]
     },
     "metadata": {},
     "output_type": "display_data"
    }
   ],
   "source": [
    "task_id, task = sample_arc_task(train_data, split=None)\n",
    "\n",
    "test_output = task[\"test\"][0][\"output\"] if \"output\" in task[\"test\"][0].keys() else None\n",
    "\n",
    "print(f\"Sampled task: {task_id}\")\n",
    "visualize_task(\n",
    "    task_data=task,\n",
    "    task_id=task_id, \n",
    "    size=2.0, \n",
    "    w1=.9\n",
    ")"
   ]
  },
  {
   "cell_type": "code",
   "execution_count": 10,
   "id": "bd8f4b27-3143-4327-85d8-f746ec2a509c",
   "metadata": {
    "scrolled": true
   },
   "outputs": [
    {
     "name": "stdout",
     "output_type": "stream",
     "text": [
      "[INFO] Expected shape: (6, 3)\n",
      "==========\n",
      "[WARNING] Generating with a model that requires 14966 MB which is close to the maximum recommended size of 16384 MB. This can be slow. See the documentation for possible work-arounds: https://github.com/ml-explore/mlx-lm/tree/main#large-models\n",
      "[[4, 0, 4], [5, 9, 4], [4, 4, 5], [4, 4, 5], [5, 9, 4], [4, 0, 4]]\n",
      "==========\n",
      "Prompt: 848 tokens, 112.509 tokens-per-sec\n",
      "Generation: 55 tokens, 6.801 tokens-per-sec\n",
      "Peak memory: 16.522 GB\n",
      "CPU times: user 579 ms, sys: 3.26 s, total: 3.84 s\n",
      "Wall time: 30.7 s\n"
     ]
    }
   ],
   "source": [
    "%%time \n",
    "\n",
    "expected_shape = get_grid_shape(test_output)\n",
    "\n",
    "out, _ = model.solve_with_llm(\n",
    "    task=task, \n",
    "    expected_shape=expected_shape,\n",
    "    verbose=True\n",
    ")"
   ]
  },
  {
   "cell_type": "code",
   "execution_count": 11,
   "id": "0f77c81c-7b65-4866-8fec-97a501938c77",
   "metadata": {
    "scrolled": true
   },
   "outputs": [
    {
     "data": {
      "image/png": "[encoded data removed]",
      "text/plain": [
       "<Figure size 1000x400 with 11 Axes>"
      ]
     },
     "metadata": {},
     "output_type": "display_data"
    }
   ],
   "source": [
    "solution = {\n",
    "    f\"{task_id}\": out\n",
    "}\n",
    "\n",
    "visualize_task(\n",
    "    task_data=task,\n",
    "    task_id=task_id, \n",
    "    size=2.0, \n",
    "    w1=.9,\n",
    "    task_solutions=solution\n",
    ")"
   ]
  },
  {
   "cell_type": "markdown",
   "id": "da93a42e-4699-49fd-b80a-028fd444ce56",
   "metadata": {
    "jp-MarkdownHeadingCollapsed": true
   },
   "source": [
    "# Batch Solving"
   ]
  },
  {
   "cell_type": "code",
   "execution_count": 12,
   "id": "97d84915-6daf-461b-82ad-e80830e4f5b4",
   "metadata": {
    "scrolled": true
   },
   "outputs": [
    {
     "name": "stdout",
     "output_type": "stream",
     "text": [
      "[INFO] task_id='train_0038'\n",
      "[INFO] Expected shape: (10, 10)\n",
      "==========\n",
      "[WARNING] Generating with a model that requires 14966 MB which is close to the maximum recommended size of 16384 MB. This can be slow. See the documentation for possible work-arounds: https://github.com/ml-explore/mlx-lm/tree/main#large-models\n",
      "[[7, 7, 7, 7, 7, 7, 7, 7, 7, 7], [7, 7, 7, 7, 7, 7, 7, 7, 7, 7], [7, 7, 7, 7, 5, 7, 7, 7, 7, 7], [7, 7, 7, 5, 5, 7, 7, 7, 7, 7], [7, 7, 7, 7, 7, 7, 7, 5, 5, 7], [7, 7, 7, 7, 7, 7, 7, 5, 7, 7], [7, 7, 5, 5, 7, 7, 7, 7, 7, 7], [7, 7, 7, 5, 7, 7, 7, 7, 7, 7], [7, 7, 7, 7, 7, 5, 5, 7, 7, 7], [7, 7, 7, 7, 5, 5, 7, 7, 7, 7]]\n",
      "==========\n",
      "Prompt: 1984 tokens, 113.401 tokens-per-sec\n",
      "Generation: 301 tokens, 6.275 tokens-per-sec\n",
      "Peak memory: 17.170 GB\n",
      "\n",
      "[INFO] task_id='train_0686'\n",
      "[INFO] Expected shape: (18, 15)\n",
      "==========\n",
      "[WARNING] Generating with a model that requires 14966 MB which is close to the maximum recommended size of 16384 MB. This can be slow. See the documentation for possible work-arounds: https://github.com/ml-explore/mlx-lm/tree/main#large-models\n",
      "[[7, 7, 7, 7, 7, 7, 7, 7, 7, 7, 7, 7, 7, 7, 7], \n",
      "[7, 7, 7, 7, 7, 7, 7, 7, 7, 7, 7, 7, 7, 7, 7], \n",
      "[7, 7, 7, 7, 7, 7, 7, 7, 7, 7, 7, 7, 7, 7, 7], \n",
      "[7, 7, 7, 7, 7, 7, 7, 7, 7, 7, 7, 7, 7, 7, 7], \n",
      "[7, 7, 7, 7, 7, 7, 7, 7, 7, 7, 7, 7, 7, 7, 7], \n",
      "[7, 7, 7, 7, 7, 7, 7, 7, 7, 7, 7, 7, 7, 7, 7], \n",
      "[7, 7, 7, 7, 7, 6, 6, 7, 7, 7, 7, 7, 7, 7, 7], \n",
      "[7, 7, 7, 7, 6, 7, 7, 6, 7, 7, 7, 7, 7, 7, 7], \n",
      "[7, 7, 7, 6, 6, 6, 6, 6, 6, 7, 7, 7, 7, 7, 7], \n",
      "[7, 7, 7, 7, 7, 7, 7, 7, 7, 7, 7, 7, 7, 7, 7], \n",
      "[7, 7, 7, 7, 7, 7, 7, 7, 7, 7, 7, 7, 7, 7, 7], \n",
      "[7, 7, 7, 7, 7, 7, 7, 7, 7, 7, 7, 7, 7, 7, 7], \n",
      "[7, 7, 7, 7, 7, 7, 7, 7, 7, 7, 7, 7, 7, 7, 7], \n",
      "[7, 7, 7, 7, 7, 7, 7, 7, 7, 7, 7, 7, 7, 7, 7], \n",
      "[7, 7, 7, 7, 7, 7, 7, 7, 4, 3, 6, 5, 2, 7, 7], \n",
      "[7, 7, 7, 7, 7, 7, 7, 7, 4, 3, 6, 5, 2, 7, 7], \n",
      "[7, 7, 7, 7, 7, 7, 7, 7, 4, 3, 6, 5, 2, 7, 7], \n",
      "[7, 7, 7, 7, 7, 7, 7, 7, 7, 7, 7, 7, 7, 7, 7]]\n",
      "==========\n",
      "Prompt: 4132 tokens, 111.961 tokens-per-sec\n",
      "Generation: 828 tokens, 6.002 tokens-per-sec\n",
      "Peak memory: 17.170 GB\n",
      "\n",
      "[INFO] task_id='train_0389'\n",
      "[INFO] Expected shape: (17, 17)\n",
      "==========\n",
      "[WARNING] Generating with a model that requires 14966 MB which is close to the maximum recommended size of 16384 MB. This can be slow. See the documentation for possible work-arounds: https://github.com/ml-explore/mlx-lm/tree/main#large-models\n",
      "[[7, 7, 7, 7, 7, 1, 7, 7, 7, 7, 7], [7, 7, 7, 7, 1, 1, 1, 7, 7, 7, 7], [7, 7, 7, 7, 1, 1, 1, 7, 7, 7, 7], [7, 7, 7, 7, 7, 1, 7, 7, 7, 7, 7], [7, 1, 1, 7, 7, 7, 7, 7, 1, 1, 7], [1, 7, 1, 1, 7, 7, 7, 1, 1, 7, 1], [7, 1, 1, 7, 7, 7, 7, 7, 1, 1, 7], [7, 7, 7, 7, 7, 1, 7, 7, 7, 7, 7], [7, 7, 7, 7, 1, 1, 1, 7, 7, 7, 7], [7, 7, 7, 7, 1, 1, 1, 7, 7, 7, 7], [7, 7, 7, 7, 7, 1, 7, 7, 7, 7, 7], [7, 7, 7, 7, 7, 1, 7, 7, 7, 7, 7], [7, 7, 7, 7, 7, 1, 7, 7, 7, 7, 7], [7, 7, 7, 7, 7, 1, 7, 7, 7, 7, 7], [7, 7, 7, 7, 7, 1, 7, 7, 7, 7, 7], [7, 7, 7, 7, 7, 1, 7, 7, 7, 7, 7], [7, 7, 7, 7, 7, 1, 7, 7, 7, 7, 7]]\n",
      "==========\n",
      "Prompt: 3510 tokens, 104.884 tokens-per-sec\n",
      "Generation: 562 tokens, 6.183 tokens-per-sec\n",
      "Peak memory: 17.274 GB\n",
      "\n",
      "0.00000% correct matches with 80.93887% pixel acc\n"
     ]
    }
   ],
   "source": [
    "total_match = 0\n",
    "total_pix_acc = 0\n",
    "train_preds = []\n",
    "N = 3\n",
    "\n",
    "completion_times = []\n",
    "expected_shape = None\n",
    "\n",
    "for _ in range(N):\n",
    "    task_id, task = sample_arc_task(train_data, split=None)    \n",
    "    logger.info(f\"{task_id=}\")\n",
    "    \n",
    "    test_output = task[\"test\"][0][\"output\"] if \"output\" in task[\"test\"][0].keys() else None\n",
    "\n",
    "    if test_output is not None:\n",
    "        expected_shape = get_grid_shape(test_output)\n",
    "    \n",
    "    pred, completion_time = model.solve_with_llm(\n",
    "        task=task, \n",
    "        expected_shape=expected_shape,\n",
    "        verbose=True\n",
    "    )  \n",
    "\n",
    "    solution = {\n",
    "        f\"{task_id}\": pred\n",
    "    }\n",
    "    \n",
    "    train_preds.append(solution)\n",
    "    completion_times.append(completion_time)\n",
    "\n",
    "    metrics = model.evaluate(task, [pred])\n",
    "    match, pix_acc = metrics.values()\n",
    "        \n",
    "    total_match+=match\n",
    "    total_pix_acc+=pix_acc\n",
    "\n",
    "    print()\n",
    "\n",
    "avg_acc = total_match/N\n",
    "avg_pix_acc = total_pix_acc/N\n",
    "avg_completion_time = sum(completion_times)/N\n",
    "\n",
    "print(f\"{avg_acc*100:.5f}% correct matches with {avg_pix_acc*100:.5f}% pixel acc\")"
   ]
  },
  {
   "cell_type": "code",
   "execution_count": 13,
   "id": "7e12f944-485a-4f7f-a724-f00980aac75d",
   "metadata": {
    "scrolled": true
   },
   "outputs": [
    {
     "data": {
      "image/png": "[encoded data removed]",
      "text/plain": [
       "<Figure size 600x400 with 7 Axes>"
      ]
     },
     "metadata": {},
     "output_type": "display_data"
    },
    {
     "data": {
      "image/png": "[encoded data removed]",
      "text/plain": [
       "<Figure size 600x400 with 7 Axes>"
      ]
     },
     "metadata": {},
     "output_type": "display_data"
    },
    {
     "data": {
      "image/png": "[encoded data removed]",
      "text/plain": [
       "<Figure size 1000x400 with 11 Axes>"
      ]
     },
     "metadata": {},
     "output_type": "display_data"
    }
   ],
   "source": [
    "for solution in train_preds:\n",
    "    task_id = list(solution.keys())[0]\n",
    "    task = train_data[task_id]\n",
    "    visualize_task(\n",
    "        task_data=task,\n",
    "        task_id=task_id, \n",
    "        size=2.0, \n",
    "        w1=.9,\n",
    "        task_solutions=solution\n",
    "    )"
   ]
  },
  {
   "cell_type": "markdown",
   "id": "915d4ef0-82c2-40f7-8e9e-153678c6edb7",
   "metadata": {},
   "source": [
    "# Predict on Test Set"
   ]
  },
  {
   "cell_type": "code",
   "execution_count": 15,
   "id": "6c0b9f73-d84c-4460-99f0-748ec4f002b6",
   "metadata": {
    "scrolled": true
   },
   "outputs": [
    {
     "name": "stdout",
     "output_type": "stream",
     "text": [
      "✓ Sample submission has 2303 predictions\n"
     ]
    }
   ],
   "source": [
    "# Load sample submission to see the format\n",
    "ss = pd.read_csv(\n",
    "    osp.join(\"../\", Config.data_path, 'SampleSubmission.csv'),\n",
    "    dtype={\"row\": str}\n",
    ")\n",
    "\n",
    "print(f\"✓ Sample submission has {len(ss)} predictions\")"
   ]
  },
  {
   "cell_type": "code",
   "execution_count": 16,
   "id": "4d452d56-eabd-4728-a68e-4f3a9a4d955c",
   "metadata": {},
   "outputs": [
    {
     "data": {
      "text/html": [
       "<div>\n",
       "<style scoped>\n",
       "    .dataframe tbody tr th:only-of-type {\n",
       "        vertical-align: middle;\n",
       "    }\n",
       "\n",
       "    .dataframe tbody tr th {\n",
       "        vertical-align: top;\n",
       "    }\n",
       "\n",
       "    .dataframe thead th {\n",
       "        text-align: right;\n",
       "    }\n",
       "</style>\n",
       "<table border=\"1\" class=\"dataframe\">\n",
       "  <thead>\n",
       "    <tr style=\"text-align: right;\">\n",
       "      <th></th>\n",
       "      <th>ID_</th>\n",
       "      <th>n_rows</th>\n",
       "    </tr>\n",
       "  </thead>\n",
       "  <tbody>\n",
       "    <tr>\n",
       "      <th>0</th>\n",
       "      <td>test_0000</td>\n",
       "      <td>10</td>\n",
       "    </tr>\n",
       "    <tr>\n",
       "      <th>1</th>\n",
       "      <td>test_0001</td>\n",
       "      <td>12</td>\n",
       "    </tr>\n",
       "    <tr>\n",
       "      <th>2</th>\n",
       "      <td>test_0002</td>\n",
       "      <td>10</td>\n",
       "    </tr>\n",
       "    <tr>\n",
       "      <th>3</th>\n",
       "      <td>test_0003</td>\n",
       "      <td>8</td>\n",
       "    </tr>\n",
       "    <tr>\n",
       "      <th>4</th>\n",
       "      <td>test_0004</td>\n",
       "      <td>30</td>\n",
       "    </tr>\n",
       "    <tr>\n",
       "      <th>...</th>\n",
       "      <td>...</td>\n",
       "      <td>...</td>\n",
       "    </tr>\n",
       "    <tr>\n",
       "      <th>180</th>\n",
       "      <td>test_0180</td>\n",
       "      <td>25</td>\n",
       "    </tr>\n",
       "    <tr>\n",
       "      <th>181</th>\n",
       "      <td>test_0181</td>\n",
       "      <td>10</td>\n",
       "    </tr>\n",
       "    <tr>\n",
       "      <th>182</th>\n",
       "      <td>test_0182</td>\n",
       "      <td>19</td>\n",
       "    </tr>\n",
       "    <tr>\n",
       "      <th>183</th>\n",
       "      <td>test_0183</td>\n",
       "      <td>10</td>\n",
       "    </tr>\n",
       "    <tr>\n",
       "      <th>184</th>\n",
       "      <td>test_0184</td>\n",
       "      <td>10</td>\n",
       "    </tr>\n",
       "  </tbody>\n",
       "</table>\n",
       "<p>185 rows × 2 columns</p>\n",
       "</div>"
      ],
      "text/plain": [
       "           ID_  n_rows\n",
       "0    test_0000      10\n",
       "1    test_0001      12\n",
       "2    test_0002      10\n",
       "3    test_0003       8\n",
       "4    test_0004      30\n",
       "..         ...     ...\n",
       "180  test_0180      25\n",
       "181  test_0181      10\n",
       "182  test_0182      19\n",
       "183  test_0183      10\n",
       "184  test_0184      10\n",
       "\n",
       "[185 rows x 2 columns]"
      ]
     },
     "execution_count": 16,
     "metadata": {},
     "output_type": "execute_result"
    }
   ],
   "source": [
    "test_out_rows = get_row_sizes(ss)\n",
    "test_out_rows"
   ]
  },
  {
   "cell_type": "code",
   "execution_count": 17,
   "id": "9811d3ae-3ec0-4f51-a18f-52b5bbd6a91e",
   "metadata": {},
   "outputs": [
    {
     "data": {
      "text/html": [
       "<div>\n",
       "<style scoped>\n",
       "    .dataframe tbody tr th:only-of-type {\n",
       "        vertical-align: middle;\n",
       "    }\n",
       "\n",
       "    .dataframe tbody tr th {\n",
       "        vertical-align: top;\n",
       "    }\n",
       "\n",
       "    .dataframe thead th {\n",
       "        text-align: right;\n",
       "    }\n",
       "</style>\n",
       "<table border=\"1\" class=\"dataframe\">\n",
       "  <thead>\n",
       "    <tr style=\"text-align: right;\">\n",
       "      <th></th>\n",
       "      <th>count</th>\n",
       "      <th>mean</th>\n",
       "      <th>std</th>\n",
       "      <th>min</th>\n",
       "      <th>25%</th>\n",
       "      <th>50%</th>\n",
       "      <th>75%</th>\n",
       "      <th>max</th>\n",
       "    </tr>\n",
       "  </thead>\n",
       "  <tbody>\n",
       "    <tr>\n",
       "      <th>n_rows</th>\n",
       "      <td>185.0</td>\n",
       "      <td>12.448649</td>\n",
       "      <td>7.509328</td>\n",
       "      <td>1.0</td>\n",
       "      <td>8.0</td>\n",
       "      <td>10.0</td>\n",
       "      <td>16.0</td>\n",
       "      <td>30.0</td>\n",
       "    </tr>\n",
       "  </tbody>\n",
       "</table>\n",
       "</div>"
      ],
      "text/plain": [
       "        count       mean       std  min  25%   50%   75%   max\n",
       "n_rows  185.0  12.448649  7.509328  1.0  8.0  10.0  16.0  30.0"
      ]
     },
     "execution_count": 17,
     "metadata": {},
     "output_type": "execute_result"
    }
   ],
   "source": [
    "test_out_rows.describe().transpose()"
   ]
  },
  {
   "cell_type": "code",
   "execution_count": 18,
   "id": "1ae73a11-c98c-40c9-b8de-ba2e06bee98b",
   "metadata": {},
   "outputs": [
    {
     "data": {
      "image/png": "[encoded data removed]",
      "text/plain": [
       "<Figure size 800x400 with 1 Axes>"
      ]
     },
     "metadata": {},
     "output_type": "display_data"
    }
   ],
   "source": [
    "value_counts = test_out_rows[\"n_rows\"].value_counts()\n",
    "\n",
    "value_counts.plot(kind=\"bar\", figsize=(8, 4))\n",
    "plt.xlabel(\"# output rows\")\n",
    "plt.ylabel(\"Count\")\n",
    "plt.title(\"Value Counts in 'n_rows'\")\n",
    "plt.tight_layout()\n",
    "plt.show()"
   ]
  },
  {
   "cell_type": "code",
   "execution_count": 19,
   "id": "8a00777f-6354-4b8e-bda9-4ebe3f9f2f9b",
   "metadata": {},
   "outputs": [
    {
     "name": "stdout",
     "output_type": "stream",
     "text": [
      "[INFO] Expected shape: (30, 30)\n"
     ]
    }
   ],
   "source": [
    "task_id = \"test_0004\"\n",
    "n_out_rows = test_out_rows.loc[test_out_rows[\"ID_\"] == task_id, \"n_rows\"].item()\n",
    "task = test_data[task_id]\n",
    "train = task[\"train\"]\n",
    "test = task[\"test\"][0]\n",
    "\n",
    "inferred_out_shape = infer_out_shape(\n",
    "    train_pairs=train, \n",
    "    test_input=test[\"input\"],  \n",
    "    expected_rows=n_out_rows,\n",
    "    verbose=False\n",
    ")\n",
    "\n",
    "pred, completion_time = model.solve_with_llm(\n",
    "    task=task, \n",
    "    expected_shape=inferred_out_shape,\n",
    "    verbose=True\n",
    ") "
   ]
  },
  {
   "cell_type": "code",
   "execution_count": 20,
   "id": "ad6b2c3a-e117-441c-9a62-d92272f4aa25",
   "metadata": {},
   "outputs": [
    {
     "data": {
      "image/png": "[encoded data removed]",
      "text/plain": [
       "<Figure size 800x400 with 9 Axes>"
      ]
     },
     "metadata": {},
     "output_type": "display_data"
    }
   ],
   "source": [
    "solution = {\n",
    "    f\"{task_id}\": pred\n",
    "}\n",
    "\n",
    "visualize_task(\n",
    "    task_data=task,\n",
    "    task_id=task_id, \n",
    "    size=2.0, \n",
    "    w1=.9,\n",
    "    task_solutions=solution\n",
    ")"
   ]
  },
  {
   "cell_type": "markdown",
   "id": "c70dd509-4a0b-4bfb-bcb9-7595378af4f8",
   "metadata": {},
   "source": [
    "# Submission"
   ]
  },
  {
   "cell_type": "code",
   "execution_count": 21,
   "id": "7a03236d-28f0-47bb-805b-9b6d9cc801aa",
   "metadata": {},
   "outputs": [
    {
     "data": {
      "text/html": [
       "<div>\n",
       "<style scoped>\n",
       "    .dataframe tbody tr th:only-of-type {\n",
       "        vertical-align: middle;\n",
       "    }\n",
       "\n",
       "    .dataframe tbody tr th {\n",
       "        vertical-align: top;\n",
       "    }\n",
       "\n",
       "    .dataframe thead th {\n",
       "        text-align: right;\n",
       "    }\n",
       "</style>\n",
       "<table border=\"1\" class=\"dataframe\">\n",
       "  <thead>\n",
       "    <tr style=\"text-align: right;\">\n",
       "      <th></th>\n",
       "      <th>ID_</th>\n",
       "      <th>n_rows</th>\n",
       "    </tr>\n",
       "  </thead>\n",
       "  <tbody>\n",
       "    <tr>\n",
       "      <th>161</th>\n",
       "      <td>test_0161</td>\n",
       "      <td>30</td>\n",
       "    </tr>\n",
       "    <tr>\n",
       "      <th>36</th>\n",
       "      <td>test_0036</td>\n",
       "      <td>30</td>\n",
       "    </tr>\n",
       "    <tr>\n",
       "      <th>22</th>\n",
       "      <td>test_0022</td>\n",
       "      <td>30</td>\n",
       "    </tr>\n",
       "    <tr>\n",
       "      <th>74</th>\n",
       "      <td>test_0074</td>\n",
       "      <td>30</td>\n",
       "    </tr>\n",
       "    <tr>\n",
       "      <th>167</th>\n",
       "      <td>test_0167</td>\n",
       "      <td>30</td>\n",
       "    </tr>\n",
       "    <tr>\n",
       "      <th>...</th>\n",
       "      <td>...</td>\n",
       "      <td>...</td>\n",
       "    </tr>\n",
       "    <tr>\n",
       "      <th>143</th>\n",
       "      <td>test_0143</td>\n",
       "      <td>2</td>\n",
       "    </tr>\n",
       "    <tr>\n",
       "      <th>54</th>\n",
       "      <td>test_0054</td>\n",
       "      <td>2</td>\n",
       "    </tr>\n",
       "    <tr>\n",
       "      <th>108</th>\n",
       "      <td>test_0108</td>\n",
       "      <td>2</td>\n",
       "    </tr>\n",
       "    <tr>\n",
       "      <th>169</th>\n",
       "      <td>test_0169</td>\n",
       "      <td>1</td>\n",
       "    </tr>\n",
       "    <tr>\n",
       "      <th>135</th>\n",
       "      <td>test_0135</td>\n",
       "      <td>1</td>\n",
       "    </tr>\n",
       "  </tbody>\n",
       "</table>\n",
       "<p>185 rows × 2 columns</p>\n",
       "</div>"
      ],
      "text/plain": [
       "           ID_  n_rows\n",
       "161  test_0161      30\n",
       "36   test_0036      30\n",
       "22   test_0022      30\n",
       "74   test_0074      30\n",
       "167  test_0167      30\n",
       "..         ...     ...\n",
       "143  test_0143       2\n",
       "54   test_0054       2\n",
       "108  test_0108       2\n",
       "169  test_0169       1\n",
       "135  test_0135       1\n",
       "\n",
       "[185 rows x 2 columns]"
      ]
     },
     "execution_count": 21,
     "metadata": {},
     "output_type": "execute_result"
    }
   ],
   "source": [
    "test_out_rows_sorted = test_out_rows.sort_values(by=\"n_rows\", ascending=False)\n",
    "test_out_rows_sorted"
   ]
  },
  {
   "cell_type": "code",
   "execution_count": null,
   "id": "32534f15-d4ad-437a-aec6-0fd85e03cf78",
   "metadata": {
    "scrolled": true
   },
   "outputs": [],
   "source": [
    "%%time\n",
    "\n",
    "test_preds = []\n",
    "\n",
    "for idx, row in tqdm(test_out_rows_sorted.iterrows(), total=len(test_out_rows_sorted)):\n",
    "    \n",
    "    task = test_data[row.ID_]\n",
    "    train = task[\"train\"]\n",
    "    test = task[\"test\"][0]\n",
    "\n",
    "    inferred_out_shape = infer_out_shape(\n",
    "        train_pairs=train, \n",
    "        test_input=test[\"input\"],  \n",
    "        expected_rows=row.n_rows,\n",
    "        verbose=False\n",
    "    )\n",
    "    pred, completion_time = model.solve_with_llm(\n",
    "        task=task, \n",
    "        expected_shape=inferred_out_shape,\n",
    "        verbose=True\n",
    "    )  \n",
    "\n",
    "    test_preds.append(pred)\n"
   ]
  },
  {
   "cell_type": "code",
   "execution_count": null,
   "id": "a6b39c46-2ad3-4f97-aaa0-7b290df28af6",
   "metadata": {},
   "outputs": [],
   "source": []
  },
  {
   "cell_type": "code",
   "execution_count": null,
   "id": "598e0679-8ed7-4fc5-9c8a-7ae55ada6242",
   "metadata": {},
   "outputs": [],
   "source": []
  },
  {
   "cell_type": "code",
   "execution_count": null,
   "id": "d8618b8d-52ff-4ec1-82be-4e10647e49a9",
   "metadata": {},
   "outputs": [],
   "source": [
    "def generate_submission(\n",
    "    test_data,\n",
    "    predictions, \n",
    "    expected_rows_list, \n",
    "    output_path=\"submission.csv\"\n",
    "):\n",
    "    \"\"\"\n",
    "    Generates a CSV submission file by solving all test tasks.\n",
    "    \n",
    "    Args:\n",
    "        test_data: dict of test_xxx: [{train: ..., test: ...}]\n",
    "        predictions: list of predicted grids\n",
    "        expected_rows_list: list of integers with expected number of rows (must align with keys order)\n",
    "        output_path: output CSV file path\n",
    "    \"\"\"\n",
    "    assert len(predictions) == len(expected_rows_list), \"Mismatch between tasks and expected row counts\"\n",
    "\n",
    "    submission_rows = []\n",
    "    test_keys = sorted(test_data.keys())\n",
    "\n",
    "    for idx, task_id in enumerate(test_keys):\n",
    "        task = test_data[task_id]  # Each task is wrapped in a list\n",
    "        expected_rows = expected_rows_list[idx]\n",
    "\n",
    "        pred = predictions[idx]\n",
    "        for row_idx, row in enumerate(pred):\n",
    "            row_str = \"\".join(str(cell) for cell in row)\n",
    "            submission_rows.append((f\"{task_id}_{row_idx+1}\", row_str))\n",
    "\n",
    "    # Write to CSV\n",
    "    with open(output_path, \"w\", newline=\"\") as f:\n",
    "        writer = csv.writer(f)\n",
    "        writer.writerow([\"ID\", \"row\"])\n",
    "        writer.writerows(submission_rows)\n",
    "\n",
    "    print(f\"✅ Submission saved to {output_path}\")"
   ]
  },
  {
   "cell_type": "code",
   "execution_count": null,
   "id": "e525462d-d0b0-4be3-80ee-66b14faf0393",
   "metadata": {},
   "outputs": [],
   "source": [
    "date_str = datetime.now().strftime(\"%Y-%m-%d\")\n",
    "sub_filename = f\"{date_str}-submission-{Config.model_name}-{Config.experiment}-{Config.target_platform}\"\n",
    "\n",
    "out_path = osp.join(Config.submission_path, sub_filename)\n",
    "\n",
    "generate_submission(\n",
    "    predictions=test_preds, \n",
    "    test_data=test_data, \n",
    "    expected_rows_list=test_out_rows.n_rows.values.tolist(), \n",
    "    output_path=out_path\n",
    ")"
   ]
  },
  {
   "cell_type": "code",
   "execution_count": null,
   "id": "a796640d-2e95-4031-b7ba-c2a91bf8786c",
   "metadata": {},
   "outputs": [],
   "source": [
    "submision = pd.read_csv(out_path)\n",
    "submision"
   ]
  },
  {
   "cell_type": "code",
   "execution_count": null,
   "id": "0e9d6408-5475-42a9-a217-c0328e959aed",
   "metadata": {},
   "outputs": [],
   "source": [
    "submision.shape == ss.shape, sum(submision.ID == ss.ID)/ss.shape[0]"
   ]
  },
  {
   "cell_type": "code",
   "execution_count": null,
   "id": "3c028205-914a-4e39-958b-fbb0a9935647",
   "metadata": {},
   "outputs": [],
   "source": []
  },
  {
   "cell_type": "code",
   "execution_count": null,
   "id": "4cb27eb4-cc14-4da5-bd59-35dfd983ef0a",
   "metadata": {},
   "outputs": [],
   "source": [
    "predictions = reconstruct_grids(submision)"
   ]
  },
  {
   "cell_type": "code",
   "execution_count": null,
   "id": "57a7e7bc-0322-43f3-8bad-60e8a1f855cb",
   "metadata": {},
   "outputs": [],
   "source": [
    "for i in range(30):\n",
    "    task_id, task_data = sample_arc_task(test_data, split=None)    \n",
    "    visualize_task(task_data=task_data,task_id=task_id, size=2.0, w1=.9, task_solutions=predictions)"
   ]
  },
  {
   "cell_type": "code",
   "execution_count": null,
   "id": "7f55be4a-5161-402a-abea-f5302413288f",
   "metadata": {},
   "outputs": [],
   "source": []
  }
 ],
 "metadata": {
  "kernelspec": {
   "display_name": "arc-agi",
   "language": "python",
   "name": "python3"
  },
  "language_info": {
   "codemirror_mode": {
    "name": "ipython",
    "version": 3
   },
   "file_extension": ".py",
   "mimetype": "text/x-python",
   "name": "python",
   "nbconvert_exporter": "python",
   "pygments_lexer": "ipython3",
   "version": "3.13.5"
  }
 },
 "nbformat": 4,
 "nbformat_minor": 5
}
